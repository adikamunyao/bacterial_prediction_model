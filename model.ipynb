{
 "cells": [
  {
   "cell_type": "markdown",
   "metadata": {},
   "source": [
    "### import python pibraries"
   ]
  },
  {
   "cell_type": "code",
   "execution_count": 1,
   "metadata": {},
   "outputs": [
    {
     "name": "stdout",
     "output_type": "stream",
     "text": [
      "Defaulting to user installation because normal site-packages is not writeable\n",
      "Requirement already satisfied: sklearn in /home/munyao/.local/lib/python3.10/site-packages (0.0.post1)\n",
      "Note: you may need to restart the kernel to use updated packages.\n"
     ]
    }
   ],
   "source": [
    "pip install sklearn"
   ]
  },
  {
   "cell_type": "code",
   "execution_count": 4,
   "metadata": {},
   "outputs": [],
   "source": [
    "#for data frames and opertaion\n",
    "import pandas as pd\n",
    "import numpy as np\n",
    "\n",
    "#for visualisation\n",
    "%matplotlib inline\n",
    "import matplotlib.pyplot as plt"
   ]
  },
  {
   "cell_type": "markdown",
   "metadata": {},
   "source": [
    "### data loading"
   ]
  },
  {
   "cell_type": "code",
   "execution_count": 5,
   "metadata": {},
   "outputs": [],
   "source": [
    "#loading of the datasets\n",
    "df = pd.read_csv('clinicData.csv')\n",
    "# drop unnamed column from the clinical dataset.\n",
    "df.dropna(how='all', axis='columns', inplace=True)"
   ]
  },
  {
   "cell_type": "markdown",
   "metadata": {},
   "source": [
    "### data cleaning"
   ]
  },
  {
   "cell_type": "markdown",
   "metadata": {},
   "source": [
    "#### strip non-nmeric characters"
   ]
  },
  {
   "cell_type": "code",
   "execution_count": 6,
   "metadata": {},
   "outputs": [],
   "source": [
    "df.replace('<', '', regex=True, inplace=True)\n",
    "df.replace('mm', '', regex=True, inplace=True)\n",
    "df.replace('>', '', regex=True, inplace=True)\n",
    "df.replace('~','.', regex=True, inplace=True)\n",
    "df.replace('-','.', regex=True, inplace=True)\n",
    "df.replace('-','.', regex=True, inplace=True)\n",
    "df.replace('-','.', regex=True, inplace=True)"
   ]
  },
  {
   "cell_type": "markdown",
   "metadata": {},
   "source": [
    "#### check columns with missing values"
   ]
  },
  {
   "cell_type": "code",
   "execution_count": 7,
   "metadata": {},
   "outputs": [
    {
     "data": {
      "text/plain": [
       "group           0\n",
       "name            0\n",
       "generative      0\n",
       "age             0\n",
       "PD depth        0\n",
       "mSBI score      0\n",
       "SBI score      10\n",
       "MBL count       0\n",
       "PLI score       0\n",
       "BOP probing     0\n",
       "CAL score       0\n",
       "FMBS score      1\n",
       "dtype: int64"
      ]
     },
     "execution_count": 7,
     "metadata": {},
     "output_type": "execute_result"
    }
   ],
   "source": [
    "df.isna().sum()"
   ]
  },
  {
   "cell_type": "markdown",
   "metadata": {},
   "source": [
    "Column SBI score has the highest values of null values.\n",
    "there are a total 10 missing values."
   ]
  },
  {
   "cell_type": "markdown",
   "metadata": {},
   "source": [
    "##### handling missing values"
   ]
  },
  {
   "cell_type": "code",
   "execution_count": 8,
   "metadata": {},
   "outputs": [
    {
     "name": "stdout",
     "output_type": "stream",
     "text": [
      "<class 'pandas.core.frame.DataFrame'>\n",
      "RangeIndex: 60 entries, 0 to 59\n",
      "Data columns (total 12 columns):\n",
      " #   Column       Non-Null Count  Dtype  \n",
      "---  ------       --------------  -----  \n",
      " 0   group        60 non-null     object \n",
      " 1   name         60 non-null     object \n",
      " 2   generative   60 non-null     object \n",
      " 3   age          60 non-null     int64  \n",
      " 4   PD depth     60 non-null     object \n",
      " 5   mSBI score   60 non-null     int64  \n",
      " 6   SBI score    60 non-null     float64\n",
      " 7   MBL count    60 non-null     object \n",
      " 8   PLI score    60 non-null     int64  \n",
      " 9   BOP probing  60 non-null     object \n",
      " 10  CAL score    60 non-null     object \n",
      " 11  FMBS score   60 non-null     object \n",
      "dtypes: float64(1), int64(3), object(8)\n",
      "memory usage: 5.8+ KB\n"
     ]
    }
   ],
   "source": [
    "df['SBI score'].fillna(0,inplace=True)\n",
    "df['FMBS score'].fillna(0,inplace=True)\n",
    "df.info()"
   ]
  },
  {
   "cell_type": "markdown",
   "metadata": {},
   "source": [
    "####  data manipulation"
   ]
  },
  {
   "cell_type": "markdown",
   "metadata": {},
   "source": [
    "###### target column\n",
    "     0 --> negative(healthy)\n",
    "     1 --> positive (not-healthy)"
   ]
  },
  {
   "cell_type": "code",
   "execution_count": 9,
   "metadata": {},
   "outputs": [],
   "source": [
    "df.loc[df['BOP probing'] == '.', 'BOP probing'] = 0\n",
    "df.loc[df['BOP probing'] == '+', 'BOP probing'] = 1"
   ]
  },
  {
   "cell_type": "markdown",
   "metadata": {},
   "source": [
    "As part of the data cleaning process, we have to convert text data to numerical because computations are best suited for numerical inputs."
   ]
  },
  {
   "cell_type": "code",
   "execution_count": 10,
   "metadata": {},
   "outputs": [
    {
     "name": "stdout",
     "output_type": "stream",
     "text": [
      "<class 'pandas.core.frame.DataFrame'>\n",
      "RangeIndex: 60 entries, 0 to 59\n",
      "Data columns (total 4 columns):\n",
      " #   Column      Non-Null Count  Dtype  \n",
      "---  ------      --------------  -----  \n",
      " 0   PD depth    60 non-null     float64\n",
      " 1   MBL count   60 non-null     float64\n",
      " 2   CAL score   60 non-null     float64\n",
      " 3   FMBS score  60 non-null     float64\n",
      "dtypes: float64(4)\n",
      "memory usage: 2.0 KB\n"
     ]
    }
   ],
   "source": [
    "cols_to_convert = ['PD depth','MBL count','CAL score','FMBS score',]\n",
    "df[cols_to_convert] = df[cols_to_convert].apply(pd.to_numeric, errors='coerce', axis=1)\n",
    "df[cols_to_convert].info()"
   ]
  },
  {
   "cell_type": "markdown",
   "metadata": {},
   "source": [
    "### descriptive statistics and data distribution"
   ]
  },
  {
   "cell_type": "code",
   "execution_count": 11,
   "metadata": {},
   "outputs": [
    {
     "data": {
      "text/html": [
       "<div>\n",
       "<style scoped>\n",
       "    .dataframe tbody tr th:only-of-type {\n",
       "        vertical-align: middle;\n",
       "    }\n",
       "\n",
       "    .dataframe tbody tr th {\n",
       "        vertical-align: top;\n",
       "    }\n",
       "\n",
       "    .dataframe thead th {\n",
       "        text-align: right;\n",
       "    }\n",
       "</style>\n",
       "<table border=\"1\" class=\"dataframe\">\n",
       "  <thead>\n",
       "    <tr style=\"text-align: right;\">\n",
       "      <th></th>\n",
       "      <th>age</th>\n",
       "      <th>PD depth</th>\n",
       "      <th>mSBI score</th>\n",
       "      <th>SBI score</th>\n",
       "      <th>MBL count</th>\n",
       "      <th>PLI score</th>\n",
       "      <th>CAL score</th>\n",
       "      <th>FMBS score</th>\n",
       "    </tr>\n",
       "  </thead>\n",
       "  <tbody>\n",
       "    <tr>\n",
       "      <th>count</th>\n",
       "      <td>60.000000</td>\n",
       "      <td>60.000000</td>\n",
       "      <td>60.000000</td>\n",
       "      <td>60.000000</td>\n",
       "      <td>60.000000</td>\n",
       "      <td>60.000000</td>\n",
       "      <td>60.000000</td>\n",
       "      <td>60.000000</td>\n",
       "    </tr>\n",
       "    <tr>\n",
       "      <th>mean</th>\n",
       "      <td>36.366667</td>\n",
       "      <td>1.966667</td>\n",
       "      <td>0.883333</td>\n",
       "      <td>0.866667</td>\n",
       "      <td>1.708333</td>\n",
       "      <td>0.683333</td>\n",
       "      <td>2.100000</td>\n",
       "      <td>1.100000</td>\n",
       "    </tr>\n",
       "    <tr>\n",
       "      <th>std</th>\n",
       "      <td>11.244534</td>\n",
       "      <td>1.261243</td>\n",
       "      <td>1.075011</td>\n",
       "      <td>1.383519</td>\n",
       "      <td>1.667769</td>\n",
       "      <td>0.833446</td>\n",
       "      <td>1.755379</td>\n",
       "      <td>0.439568</td>\n",
       "    </tr>\n",
       "    <tr>\n",
       "      <th>min</th>\n",
       "      <td>21.000000</td>\n",
       "      <td>1.000000</td>\n",
       "      <td>0.000000</td>\n",
       "      <td>0.000000</td>\n",
       "      <td>0.500000</td>\n",
       "      <td>0.000000</td>\n",
       "      <td>1.000000</td>\n",
       "      <td>0.000000</td>\n",
       "    </tr>\n",
       "    <tr>\n",
       "      <th>25%</th>\n",
       "      <td>29.000000</td>\n",
       "      <td>1.000000</td>\n",
       "      <td>0.000000</td>\n",
       "      <td>0.000000</td>\n",
       "      <td>0.500000</td>\n",
       "      <td>0.000000</td>\n",
       "      <td>1.000000</td>\n",
       "      <td>1.000000</td>\n",
       "    </tr>\n",
       "    <tr>\n",
       "      <th>50%</th>\n",
       "      <td>35.000000</td>\n",
       "      <td>1.000000</td>\n",
       "      <td>0.500000</td>\n",
       "      <td>0.000000</td>\n",
       "      <td>0.600000</td>\n",
       "      <td>0.000000</td>\n",
       "      <td>1.000000</td>\n",
       "      <td>1.000000</td>\n",
       "    </tr>\n",
       "    <tr>\n",
       "      <th>75%</th>\n",
       "      <td>39.250000</td>\n",
       "      <td>2.875000</td>\n",
       "      <td>1.250000</td>\n",
       "      <td>2.000000</td>\n",
       "      <td>2.650000</td>\n",
       "      <td>1.000000</td>\n",
       "      <td>2.500000</td>\n",
       "      <td>1.000000</td>\n",
       "    </tr>\n",
       "    <tr>\n",
       "      <th>max</th>\n",
       "      <td>73.000000</td>\n",
       "      <td>4.500000</td>\n",
       "      <td>3.000000</td>\n",
       "      <td>4.000000</td>\n",
       "      <td>5.000000</td>\n",
       "      <td>2.000000</td>\n",
       "      <td>6.000000</td>\n",
       "      <td>2.000000</td>\n",
       "    </tr>\n",
       "  </tbody>\n",
       "</table>\n",
       "</div>"
      ],
      "text/plain": [
       "             age   PD depth  mSBI score  SBI score  MBL count  PLI score  \\\n",
       "count  60.000000  60.000000   60.000000  60.000000  60.000000  60.000000   \n",
       "mean   36.366667   1.966667    0.883333   0.866667   1.708333   0.683333   \n",
       "std    11.244534   1.261243    1.075011   1.383519   1.667769   0.833446   \n",
       "min    21.000000   1.000000    0.000000   0.000000   0.500000   0.000000   \n",
       "25%    29.000000   1.000000    0.000000   0.000000   0.500000   0.000000   \n",
       "50%    35.000000   1.000000    0.500000   0.000000   0.600000   0.000000   \n",
       "75%    39.250000   2.875000    1.250000   2.000000   2.650000   1.000000   \n",
       "max    73.000000   4.500000    3.000000   4.000000   5.000000   2.000000   \n",
       "\n",
       "       CAL score  FMBS score  \n",
       "count  60.000000   60.000000  \n",
       "mean    2.100000    1.100000  \n",
       "std     1.755379    0.439568  \n",
       "min     1.000000    0.000000  \n",
       "25%     1.000000    1.000000  \n",
       "50%     1.000000    1.000000  \n",
       "75%     2.500000    1.000000  \n",
       "max     6.000000    2.000000  "
      ]
     },
     "execution_count": 11,
     "metadata": {},
     "output_type": "execute_result"
    }
   ],
   "source": [
    "# Return list of numerical columns that are not necessarily continuous to find any outliers.\n",
    "num_cols = [col for col in df.columns if (df[col].dtype=='int64' or df[col].dtype=='float64') and col != 'BOP probing']\n",
    "df[num_cols].describe()"
   ]
  },
  {
   "cell_type": "markdown",
   "metadata": {},
   "source": [
    "##### visualisation"
   ]
  },
  {
   "cell_type": "code",
   "execution_count": 18,
   "metadata": {},
   "outputs": [],
   "source": [
    "features = ['generative','age', 'PD depth', 'mSBI score',\n",
    "            'SBI score', 'MBL count', 'PLI score', 'CAL score','FMBS score']"
   ]
  },
  {
   "cell_type": "code",
   "execution_count": 24,
   "metadata": {},
   "outputs": [
    {
     "ename": "SyntaxError",
     "evalue": "invalid syntax (56713651.py, line 1)",
     "output_type": "error",
     "traceback": [
      "\u001b[0;36m  Cell \u001b[0;32mIn[24], line 1\u001b[0;36m\u001b[0m\n\u001b[0;31m    https://intellipaat.com/blog/tutorial/machine-learning-tutorial/svm-algorithm-in-python/\u001b[0m\n\u001b[0m          ^\u001b[0m\n\u001b[0;31mSyntaxError\u001b[0m\u001b[0;31m:\u001b[0m invalid syntax\n"
     ]
    }
   ],
   "source": [
    "https://intellipaat.com/blog/tutorial/machine-learning-tutorial/svm-algorithm-in-python/"
   ]
  },
  {
   "cell_type": "markdown",
   "metadata": {},
   "source": [
    "# Linear Regression algorothim 1"
   ]
  },
  {
   "cell_type": "code",
   "execution_count": null,
   "metadata": {},
   "outputs": [],
   "source": []
  },
  {
   "cell_type": "markdown",
   "metadata": {},
   "source": [
    "# Naive Bayes algorithim 2"
   ]
  },
  {
   "cell_type": "markdown",
   "metadata": {},
   "source": [
    "# Logistic Regression algorithim 3"
   ]
  },
  {
   "cell_type": "markdown",
   "metadata": {},
   "source": [
    "# regression algorithim 4\n"
   ]
  }
 ],
 "metadata": {
  "kernelspec": {
   "display_name": "Python 3 (ipykernel)",
   "language": "python",
   "name": "python3"
  },
  "language_info": {
   "codemirror_mode": {
    "name": "ipython",
    "version": 3
   },
   "file_extension": ".py",
   "mimetype": "text/x-python",
   "name": "python",
   "nbconvert_exporter": "python",
   "pygments_lexer": "ipython3",
   "version": "3.10.6"
  }
 },
 "nbformat": 4,
 "nbformat_minor": 4
}
