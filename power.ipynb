{
 "cells": [
  {
   "cell_type": "markdown",
   "id": "4f9a3f30",
   "metadata": {},
   "source": [
    "# Data"
   ]
  },
  {
   "cell_type": "markdown",
   "id": "5b11a7f0",
   "metadata": {},
   "source": [
    "## Data Understanding\n",
    "\n",
    "* Group: This column appears to indicate whether the individual is a \"health person\", which may suggest that the data pertains to a study comparing healthy individuals to those with periodontal disease.\n",
    "* Name: This column includes the names of the individuals in the data set.\n",
    "* Generative: This column appears to indicate the gender of each individual (male or female).\n",
    "* Age: This column includes the ages of the individuals in the data set.\n",
    "* PD depth: This column may refer to the depth of periodontal pockets, which can be a sign of periodontal disease.\n",
    "* mSBI score: This column may refer to a score on the modified Sulcular Bleeding Index, which can be used to assess gingival inflammation.\n",
    "* SBI score: This column may refer to a score on the Sulcular Bleeding Index, which can also be used to assess gingival inflammation.\n",
    "* MBL count: This column may refer to the number of millimeters of clinical attachment loss, which can be used to assess periodontal disease severity.\n",
    "* PLI score: This column may refer to a score on the Plaque Index, which can be used to assess the amount of plaque on teeth.\n",
    "* BOP probing: This column appears to indicate whether bleeding on probing was observed, which can be a sign of periodontal disease.\n",
    "* CAL score: This column may refer to a score on the Clinical Attachment Level, which can be used to assess periodontal disease severity.\n",
    "* FMBS score: This column may refer to a score on the Full Mouth Bleeding Score, which can be used to assess gingival inflammation."
   ]
  },
  {
   "cell_type": "code",
   "execution_count": 1,
   "id": "d1431a47",
   "metadata": {},
   "outputs": [
    {
     "data": {
      "text/html": [
       "<div>\n",
       "<style scoped>\n",
       "    .dataframe tbody tr th:only-of-type {\n",
       "        vertical-align: middle;\n",
       "    }\n",
       "\n",
       "    .dataframe tbody tr th {\n",
       "        vertical-align: top;\n",
       "    }\n",
       "\n",
       "    .dataframe thead th {\n",
       "        text-align: right;\n",
       "    }\n",
       "</style>\n",
       "<table border=\"1\" class=\"dataframe\">\n",
       "  <thead>\n",
       "    <tr style=\"text-align: right;\">\n",
       "      <th></th>\n",
       "      <th>group</th>\n",
       "      <th>name</th>\n",
       "      <th>generative</th>\n",
       "      <th>age</th>\n",
       "      <th>PD depth</th>\n",
       "      <th>mSBI score</th>\n",
       "      <th>SBI score</th>\n",
       "      <th>MBL count</th>\n",
       "      <th>PLI score</th>\n",
       "      <th>BOP probing</th>\n",
       "      <th>CAL score</th>\n",
       "      <th>FMBS score</th>\n",
       "    </tr>\n",
       "  </thead>\n",
       "  <tbody>\n",
       "    <tr>\n",
       "      <th>0</th>\n",
       "      <td>health person</td>\n",
       "      <td>Zhu Weijun</td>\n",
       "      <td>male</td>\n",
       "      <td>25</td>\n",
       "      <td>&lt;1mm</td>\n",
       "      <td>0</td>\n",
       "      <td>0.0</td>\n",
       "      <td>&lt;0.5mm</td>\n",
       "      <td>0</td>\n",
       "      <td>-</td>\n",
       "      <td>&lt;1mm</td>\n",
       "      <td>&lt;1</td>\n",
       "    </tr>\n",
       "    <tr>\n",
       "      <th>1</th>\n",
       "      <td>health person</td>\n",
       "      <td>Zhou Yi</td>\n",
       "      <td>male</td>\n",
       "      <td>26</td>\n",
       "      <td>&lt;1mm</td>\n",
       "      <td>0</td>\n",
       "      <td>0.0</td>\n",
       "      <td>&lt;0.5mm</td>\n",
       "      <td>0</td>\n",
       "      <td>-</td>\n",
       "      <td>&lt;1mm</td>\n",
       "      <td>&lt;1</td>\n",
       "    </tr>\n",
       "    <tr>\n",
       "      <th>2</th>\n",
       "      <td>health person</td>\n",
       "      <td>Liang Mengmeng</td>\n",
       "      <td>female</td>\n",
       "      <td>26</td>\n",
       "      <td>&lt;1mm</td>\n",
       "      <td>0</td>\n",
       "      <td>0.0</td>\n",
       "      <td>&lt;0.5mm</td>\n",
       "      <td>0</td>\n",
       "      <td>-</td>\n",
       "      <td>&lt;1mm</td>\n",
       "      <td>&lt;1</td>\n",
       "    </tr>\n",
       "    <tr>\n",
       "      <th>3</th>\n",
       "      <td>health person</td>\n",
       "      <td>Xie Mengying</td>\n",
       "      <td>female</td>\n",
       "      <td>30</td>\n",
       "      <td>&lt;1mm</td>\n",
       "      <td>0</td>\n",
       "      <td>0.0</td>\n",
       "      <td>&lt;0.5mm</td>\n",
       "      <td>0</td>\n",
       "      <td>-</td>\n",
       "      <td>&lt;1mm</td>\n",
       "      <td>&lt;1</td>\n",
       "    </tr>\n",
       "    <tr>\n",
       "      <th>4</th>\n",
       "      <td>health person</td>\n",
       "      <td>Zhang Qianmei</td>\n",
       "      <td>female</td>\n",
       "      <td>24</td>\n",
       "      <td>&lt;1mm</td>\n",
       "      <td>0</td>\n",
       "      <td>0.0</td>\n",
       "      <td>&lt;0.5mm</td>\n",
       "      <td>0</td>\n",
       "      <td>-</td>\n",
       "      <td>&lt;1mm</td>\n",
       "      <td>&lt;1</td>\n",
       "    </tr>\n",
       "    <tr>\n",
       "      <th>5</th>\n",
       "      <td>health person</td>\n",
       "      <td>Zhao Xueqian</td>\n",
       "      <td>female</td>\n",
       "      <td>29</td>\n",
       "      <td>&lt;1mm</td>\n",
       "      <td>0</td>\n",
       "      <td>0.0</td>\n",
       "      <td>&lt;0.5mm</td>\n",
       "      <td>0</td>\n",
       "      <td>-</td>\n",
       "      <td>&lt;1mm</td>\n",
       "      <td>&lt;1</td>\n",
       "    </tr>\n",
       "    <tr>\n",
       "      <th>6</th>\n",
       "      <td>health person</td>\n",
       "      <td>Wang Jingjing</td>\n",
       "      <td>female</td>\n",
       "      <td>32</td>\n",
       "      <td>&lt;1mm</td>\n",
       "      <td>0</td>\n",
       "      <td>0.0</td>\n",
       "      <td>&lt;0.5mm</td>\n",
       "      <td>0</td>\n",
       "      <td>-</td>\n",
       "      <td>&lt;1mm</td>\n",
       "      <td>&lt;1</td>\n",
       "    </tr>\n",
       "  </tbody>\n",
       "</table>\n",
       "</div>"
      ],
      "text/plain": [
       "           group            name generative  age PD depth  mSBI score  \\\n",
       "0  health person      Zhu Weijun       male   25     <1mm           0   \n",
       "1  health person         Zhou Yi       male   26     <1mm           0   \n",
       "2  health person  Liang Mengmeng     female   26     <1mm           0   \n",
       "3  health person    Xie Mengying     female   30     <1mm           0   \n",
       "4  health person   Zhang Qianmei     female   24     <1mm           0   \n",
       "5  health person    Zhao Xueqian     female   29     <1mm           0   \n",
       "6  health person   Wang Jingjing     female   32     <1mm           0   \n",
       "\n",
       "   SBI score MBL count  PLI score BOP probing CAL score FMBS score  \n",
       "0        0.0    <0.5mm          0           -      <1mm         <1  \n",
       "1        0.0    <0.5mm          0           -      <1mm         <1  \n",
       "2        0.0    <0.5mm          0           -      <1mm         <1  \n",
       "3        0.0    <0.5mm          0           -      <1mm         <1  \n",
       "4        0.0    <0.5mm          0           -      <1mm         <1  \n",
       "5        0.0    <0.5mm          0           -      <1mm         <1  \n",
       "6        0.0    <0.5mm          0           -      <1mm         <1  "
      ]
     },
     "execution_count": 1,
     "metadata": {},
     "output_type": "execute_result"
    }
   ],
   "source": [
    "# import relevant libraries\n",
    "import pandas as pd\n",
    "import numpy as np\n",
    "import statsmodels.stats.power as smp\n",
    "\n",
    "# load datasets\n",
    "df = pd.read_csv('clinicData.csv')\n",
    "# drop unnamed column from the clinical dataset.\n",
    "df.dropna(how='all', axis='columns', inplace=True)\n",
    "\n",
    "# preview the dataframe\n",
    "df.head(7)"
   ]
  },
  {
   "cell_type": "markdown",
   "id": "27daf717",
   "metadata": {},
   "source": [
    "## Data processing"
   ]
  },
  {
   "cell_type": "markdown",
   "id": "a1f41732",
   "metadata": {},
   "source": [
    "### FMBS score"
   ]
  },
  {
   "cell_type": "code",
   "execution_count": 2,
   "id": "6f2f4d52",
   "metadata": {},
   "outputs": [],
   "source": [
    "# function to fill missing values with mean\n",
    "df['FMBS score'].fillna('<1', inplace=True)\n",
    "\n",
    "# create a dictionary mapping the values to their corresponding FMBS scores\n",
    "FMBS_level = {\n",
    "    '<1' : 'low FMBS scores',\n",
    "    '1' : 'moderate FMBS scores',\n",
    "    '2' : 'high FMBS scores',\n",
    "    '0' : 'low FMBS scores'\n",
    "}\n",
    "\n",
    "# apply the mapping to the MBLcount column\n",
    "df['FMBS score'] = df['FMBS score'].map(FMBS_level)\n"
   ]
  },
  {
   "cell_type": "markdown",
   "id": "79c7c48a",
   "metadata": {},
   "source": [
    "### pd depth"
   ]
  },
  {
   "cell_type": "code",
   "execution_count": 3,
   "id": "a64f92dd",
   "metadata": {},
   "outputs": [],
   "source": [
    "# define a function to bin the PD depth values into categories\n",
    "def bin_PD_depth(depth):\n",
    "    if depth == '<1mm':\n",
    "        return 'shallow'\n",
    "    elif depth in ['1.0mm', '1.2mm', '1.3mm', '1.4mm', '1.5mm']:\n",
    "        return 'moderate'\n",
    "    else:\n",
    "        return 'deep'\n",
    "\n",
    "# apply the bin_PD_depth function to the 'PD depth' column\n",
    "df['PD depth'] = df['PD depth'].apply(bin_PD_depth)"
   ]
  },
  {
   "cell_type": "markdown",
   "id": "6a050c12",
   "metadata": {},
   "source": [
    "### MBL count"
   ]
  },
  {
   "cell_type": "code",
   "execution_count": 4,
   "id": "98f6ca42",
   "metadata": {},
   "outputs": [],
   "source": [
    "# create a dictionary mapping the values to their corresponding risk levels\n",
    "risk_levels = {\n",
    "    '<0.5mm': 'Low Risk',\n",
    "    '0.7mm': 'Low Risk',\n",
    "    '0.9mm': 'Low Risk',\n",
    "    '1.0mm': 'Low Risk',\n",
    "    '1.1mm': 'Low Risk',\n",
    "    '1.2mm': 'Moderate Risk',\n",
    "    '1.3mm': 'Moderate Risk',\n",
    "    '1.6mm': 'Moderate Risk',\n",
    "    '1.7mm': 'Moderate Risk',\n",
    "    '1.8mm': 'Moderate Risk',\n",
    "    '1.9mm': 'Moderate Risk',\n",
    "    '2.2mm': 'Moderate Risk',\n",
    "    '4.5mm': 'Very High Risk',\n",
    "    '4~5mm': 'Very High Risk',\n",
    "    '>4mm': 'Very High Risk',\n",
    "    '5mm': 'Very High Risk'\n",
    "}\n",
    "# apply the mapping to the MBLcount column\n",
    "df['MBL count'] = df['MBL count'].map(risk_levels)\n"
   ]
  },
  {
   "cell_type": "markdown",
   "id": "3c5a937a",
   "metadata": {},
   "source": [
    "### CAL score"
   ]
  },
  {
   "cell_type": "code",
   "execution_count": 5,
   "id": "c5522e48",
   "metadata": {},
   "outputs": [],
   "source": [
    "# replace \"1-2\" with 1.5\n",
    "df.loc[df['CAL score'] == '1-2mm', 'CAL score'] = 1.5\n",
    "\n",
    "# convert the 'CAL score' column to a numeric format\n",
    "df['CAL score'] = pd.to_numeric(df['CAL score'].str.strip('<>mm'))\n",
    "\n",
    "# define the value ranges for each category\n",
    "no_cal = df['CAL score'] < 1\n",
    "mid_cal = (df['CAL score'] >= 1) & (df['CAL score'] < 2)\n",
    "moderate_cal = (df['CAL score'] >= 2) & (df['CAL score'] <= 6)\n",
    "severe_cal = df['CAL score'] > 6\n",
    "\n",
    "# assign categories to each value based on the ranges defined above\n",
    "df['CAL score'] = pd.cut(df['CAL score'], bins=[-float('inf'), 1, 2, 6, float('inf')], \n",
    "                            labels=['no_cal', 'mid_cal', 'moderate_cal', 'severe_cal'])\n"
   ]
  },
  {
   "cell_type": "markdown",
   "id": "5b4b97dc",
   "metadata": {},
   "source": [
    "### BOP probing"
   ]
  },
  {
   "cell_type": "code",
   "execution_count": 6,
   "id": "a593f511",
   "metadata": {},
   "outputs": [],
   "source": [
    "# convert the target colum to binary\n",
    "replacements = {'-': 'healthy', '+': 'not_healthy'}\n",
    "df['BOP probing'] = df['BOP probing'].replace(replacements)\n"
   ]
  },
  {
   "cell_type": "code",
   "execution_count": 7,
   "id": "f8705e82",
   "metadata": {},
   "outputs": [
    {
     "data": {
      "text/html": [
       "<div>\n",
       "<style scoped>\n",
       "    .dataframe tbody tr th:only-of-type {\n",
       "        vertical-align: middle;\n",
       "    }\n",
       "\n",
       "    .dataframe tbody tr th {\n",
       "        vertical-align: top;\n",
       "    }\n",
       "\n",
       "    .dataframe thead th {\n",
       "        text-align: right;\n",
       "    }\n",
       "</style>\n",
       "<table border=\"1\" class=\"dataframe\">\n",
       "  <thead>\n",
       "    <tr style=\"text-align: right;\">\n",
       "      <th></th>\n",
       "      <th>group</th>\n",
       "      <th>name</th>\n",
       "      <th>generative</th>\n",
       "      <th>age</th>\n",
       "      <th>PD depth</th>\n",
       "      <th>mSBI score</th>\n",
       "      <th>SBI score</th>\n",
       "      <th>MBL count</th>\n",
       "      <th>PLI score</th>\n",
       "      <th>BOP probing</th>\n",
       "      <th>CAL score</th>\n",
       "      <th>FMBS score</th>\n",
       "    </tr>\n",
       "  </thead>\n",
       "  <tbody>\n",
       "    <tr>\n",
       "      <th>0</th>\n",
       "      <td>health person</td>\n",
       "      <td>Zhu Weijun</td>\n",
       "      <td>male</td>\n",
       "      <td>25</td>\n",
       "      <td>shallow</td>\n",
       "      <td>0</td>\n",
       "      <td>0.0</td>\n",
       "      <td>Low Risk</td>\n",
       "      <td>0</td>\n",
       "      <td>healthy</td>\n",
       "      <td>no_cal</td>\n",
       "      <td>low FMBS scores</td>\n",
       "    </tr>\n",
       "    <tr>\n",
       "      <th>1</th>\n",
       "      <td>health person</td>\n",
       "      <td>Zhou Yi</td>\n",
       "      <td>male</td>\n",
       "      <td>26</td>\n",
       "      <td>shallow</td>\n",
       "      <td>0</td>\n",
       "      <td>0.0</td>\n",
       "      <td>Low Risk</td>\n",
       "      <td>0</td>\n",
       "      <td>healthy</td>\n",
       "      <td>no_cal</td>\n",
       "      <td>low FMBS scores</td>\n",
       "    </tr>\n",
       "    <tr>\n",
       "      <th>2</th>\n",
       "      <td>health person</td>\n",
       "      <td>Liang Mengmeng</td>\n",
       "      <td>female</td>\n",
       "      <td>26</td>\n",
       "      <td>shallow</td>\n",
       "      <td>0</td>\n",
       "      <td>0.0</td>\n",
       "      <td>Low Risk</td>\n",
       "      <td>0</td>\n",
       "      <td>healthy</td>\n",
       "      <td>no_cal</td>\n",
       "      <td>low FMBS scores</td>\n",
       "    </tr>\n",
       "    <tr>\n",
       "      <th>3</th>\n",
       "      <td>health person</td>\n",
       "      <td>Xie Mengying</td>\n",
       "      <td>female</td>\n",
       "      <td>30</td>\n",
       "      <td>shallow</td>\n",
       "      <td>0</td>\n",
       "      <td>0.0</td>\n",
       "      <td>Low Risk</td>\n",
       "      <td>0</td>\n",
       "      <td>healthy</td>\n",
       "      <td>no_cal</td>\n",
       "      <td>low FMBS scores</td>\n",
       "    </tr>\n",
       "    <tr>\n",
       "      <th>4</th>\n",
       "      <td>health person</td>\n",
       "      <td>Zhang Qianmei</td>\n",
       "      <td>female</td>\n",
       "      <td>24</td>\n",
       "      <td>shallow</td>\n",
       "      <td>0</td>\n",
       "      <td>0.0</td>\n",
       "      <td>Low Risk</td>\n",
       "      <td>0</td>\n",
       "      <td>healthy</td>\n",
       "      <td>no_cal</td>\n",
       "      <td>low FMBS scores</td>\n",
       "    </tr>\n",
       "    <tr>\n",
       "      <th>5</th>\n",
       "      <td>health person</td>\n",
       "      <td>Zhao Xueqian</td>\n",
       "      <td>female</td>\n",
       "      <td>29</td>\n",
       "      <td>shallow</td>\n",
       "      <td>0</td>\n",
       "      <td>0.0</td>\n",
       "      <td>Low Risk</td>\n",
       "      <td>0</td>\n",
       "      <td>healthy</td>\n",
       "      <td>no_cal</td>\n",
       "      <td>low FMBS scores</td>\n",
       "    </tr>\n",
       "    <tr>\n",
       "      <th>6</th>\n",
       "      <td>health person</td>\n",
       "      <td>Wang Jingjing</td>\n",
       "      <td>female</td>\n",
       "      <td>32</td>\n",
       "      <td>shallow</td>\n",
       "      <td>0</td>\n",
       "      <td>0.0</td>\n",
       "      <td>Low Risk</td>\n",
       "      <td>0</td>\n",
       "      <td>healthy</td>\n",
       "      <td>no_cal</td>\n",
       "      <td>low FMBS scores</td>\n",
       "    </tr>\n",
       "  </tbody>\n",
       "</table>\n",
       "</div>"
      ],
      "text/plain": [
       "           group            name generative  age PD depth  mSBI score  \\\n",
       "0  health person      Zhu Weijun       male   25  shallow           0   \n",
       "1  health person         Zhou Yi       male   26  shallow           0   \n",
       "2  health person  Liang Mengmeng     female   26  shallow           0   \n",
       "3  health person    Xie Mengying     female   30  shallow           0   \n",
       "4  health person   Zhang Qianmei     female   24  shallow           0   \n",
       "5  health person    Zhao Xueqian     female   29  shallow           0   \n",
       "6  health person   Wang Jingjing     female   32  shallow           0   \n",
       "\n",
       "   SBI score MBL count  PLI score BOP probing CAL score       FMBS score  \n",
       "0        0.0  Low Risk          0     healthy    no_cal  low FMBS scores  \n",
       "1        0.0  Low Risk          0     healthy    no_cal  low FMBS scores  \n",
       "2        0.0  Low Risk          0     healthy    no_cal  low FMBS scores  \n",
       "3        0.0  Low Risk          0     healthy    no_cal  low FMBS scores  \n",
       "4        0.0  Low Risk          0     healthy    no_cal  low FMBS scores  \n",
       "5        0.0  Low Risk          0     healthy    no_cal  low FMBS scores  \n",
       "6        0.0  Low Risk          0     healthy    no_cal  low FMBS scores  "
      ]
     },
     "execution_count": 7,
     "metadata": {},
     "output_type": "execute_result"
    }
   ],
   "source": [
    "# preview the cleaned data\n",
    "df.head(7)"
   ]
  },
  {
   "cell_type": "markdown",
   "id": "19daffc3",
   "metadata": {},
   "source": [
    "## Sample size and Power"
   ]
  },
  {
   "cell_type": "markdown",
   "id": "f59c9c09",
   "metadata": {},
   "source": [
    "## steps\n",
    "\n",
    "1. Determine the effect size you expect to observe in your study. The effect size is the magnitude of the difference or relationship you expect to observe between groups or variables. The effect size is typically measured as the standardized mean difference (e.g., Cohen's d) for continuous outcomes or as the odds ratio or relative risk for binary outcomes. Without additional information about your study, it is difficult to determine the effect size.\n",
    "\n",
    "\n",
    "2. Choose the level of significance (alpha) you want to use in your study. The level of significance is the probability of rejecting the null hypothesis when it is actually true (i.e., a type I error). A common choice for alpha is 0.05.\n",
    "\n",
    "\n",
    "3. Choose the desired power (1-beta) for your study. The power is the probability of rejecting the null hypothesis when it is actually false (i.e., a type II error). A common choice for power is 0.80.\n",
    "\n",
    "\n",
    "4. Determine the allocation ratio for your study. The allocation ratio is the ratio of participants assigned to each group in a study. For your study, the allocation ratios are as follows: Healthy implants (16), Peri-implant mucositis (15), peri-implantitis (15), and health person (14).\n",
    "\n",
    "\n",
    "5. Use a sample size calculator or statistical software to calculate the necessary sample size for your study based on the inputs above."
   ]
  },
  {
   "cell_type": "markdown",
   "id": "a7b2e4ae",
   "metadata": {},
   "source": [
    "**Research question**\n",
    ">What is the effect of peri-implantitis on clinical and microbiological parameters compared to healthy implants and peri-implant mucositis?"
   ]
  },
  {
   "cell_type": "markdown",
   "id": "dbe71dd1",
   "metadata": {},
   "source": [
    "The **expected difference** between the groups could be the following:\n",
    "\n",
    "* **Peri-implantitis group vs. Healthy implants group:** It is expected that the peri-implantitis group will have a higher mean value for PD depth, mSBI score, BOP probing, and CAL score compared to the healthy implants group.\n",
    "* **Peri-implantitis group vs. Peri-implant mucositis group:** It is expected that the peri-implantitis group will have a higher mean value for PD depth, mSBI score, BOP probing, and CAL score compared to the peri-implant mucositis group.\n",
    "* **Peri-implant mucositis group vs. Healthy implants group:** It is expected that the peri-implant mucositis group will have a higher mean value for PD depth, mSBI score, and BOP probing compared to the healthy implants group, but a lower mean value for CAL score."
   ]
  },
  {
   "cell_type": "markdown",
   "id": "72718581",
   "metadata": {},
   "source": [
    "### alpha and power values"
   ]
  },
  {
   "cell_type": "code",
   "execution_count": 8,
   "id": "60fceaa8",
   "metadata": {},
   "outputs": [],
   "source": [
    "# set alpha and power values\n",
    "alpha = 0.05\n",
    "power = 0.80"
   ]
  },
  {
   "cell_type": "markdown",
   "id": "0426328f",
   "metadata": {},
   "source": [
    "### sample sizes and expected difference"
   ]
  },
  {
   "cell_type": "code",
   "execution_count": 9,
   "id": "22ebff28",
   "metadata": {},
   "outputs": [],
   "source": [
    "# define the sample sizes for each group\n",
    "n1 = 16\n",
    "n2 = 15\n",
    "\n",
    "# define the expected difference between the groups\n",
    "d = 5"
   ]
  },
  {
   "cell_type": "markdown",
   "id": "727a14cf",
   "metadata": {},
   "source": [
    "### subsets groups"
   ]
  },
  {
   "cell_type": "code",
   "execution_count": 10,
   "id": "139b5f17",
   "metadata": {},
   "outputs": [],
   "source": [
    "# subset the data for the two groups we want to compare\n",
    "group1 = df[df['group'] == 'Healthy implants']\n",
    "group2 = df[df['group'] == 'peri-implantitis']\n"
   ]
  },
  {
   "cell_type": "markdown",
   "id": "55c32587",
   "metadata": {},
   "source": [
    "### mean and sd for the two gropus"
   ]
  },
  {
   "cell_type": "code",
   "execution_count": 11,
   "id": "d93c1875",
   "metadata": {},
   "outputs": [],
   "source": [
    "# mean and standard deviation of the age variable for each group\n",
    "mean1, mean2 = group1['age'].mean(), group2['age'].mean()\n",
    "std1, std2 = group1['age'].std(), group2['age'].std()\n"
   ]
  },
  {
   "cell_type": "markdown",
   "id": "d04fc2b5",
   "metadata": {},
   "source": [
    "### effect size"
   ]
  },
  {
   "cell_type": "code",
   "execution_count": 12,
   "id": "95412953",
   "metadata": {},
   "outputs": [
    {
     "data": {
      "text/plain": [
       "0.4111250067235885"
      ]
     },
     "execution_count": 12,
     "metadata": {},
     "output_type": "execute_result"
    }
   ],
   "source": [
    "# calculate the effect size\n",
    "effect_size = d / np.sqrt(((n1-1)*std1**2 + (n2-1)*std2**2) / (n1+n2-2))\n",
    "\n",
    "# print effect size\n",
    "effect_size"
   ]
  },
  {
   "cell_type": "markdown",
   "id": "51cbbb7f",
   "metadata": {},
   "source": [
    "###  Using the z-test power function"
   ]
  },
  {
   "cell_type": "code",
   "execution_count": 13,
   "id": "baf73cbf",
   "metadata": {},
   "outputs": [
    {
     "name": "stdout",
     "output_type": "stream",
     "text": [
      "Z_test power: 0.20819472570484907\n",
      "\n",
      "Z_test nobs: 95.96862265361582\n"
     ]
    }
   ],
   "source": [
    "# z-test power function (approximation for large sample sizes)\n",
    "power_ztest = smp.zt_ind_solve_power(effect_size=effect_size, nobs1=n1, alpha=alpha, ratio=n2/n1, alternative='two-sided')\n",
    "nobs_ztest = smp.zt_ind_solve_power(effect_size=effect_size, alpha=alpha, power=power, ratio=n2/n1)\n",
    "\n",
    "# display\n",
    "print(f\"Z_test power: {power_ztest}\")\n",
    "print()\n",
    "print(f\"Z_test nobs: {nobs_ztest}\")"
   ]
  }
 ],
 "metadata": {
  "kernelspec": {
   "display_name": "microbial_env",
   "language": "python",
   "name": "microbial_env"
  },
  "language_info": {
   "codemirror_mode": {
    "name": "ipython",
    "version": 3
   },
   "file_extension": ".py",
   "mimetype": "text/x-python",
   "name": "python",
   "nbconvert_exporter": "python",
   "pygments_lexer": "ipython3",
   "version": "3.10.9"
  }
 },
 "nbformat": 4,
 "nbformat_minor": 5
}
